{
 "cells": [
  {
   "cell_type": "code",
   "execution_count": null,
   "id": "518b2e90-229a-4553-86f7-9c2261b96046",
   "metadata": {},
   "outputs": [],
   "source": [
    "import subprocess\n",
    "import sys\n",
    "\n",
    "def install_package(package_name):\n",
    "    \"\"\"Install a Python package using pip, and handle errors.\"\"\"\n",
    "    try:\n",
    "        subprocess.check_call([sys.executable, \"-m\", \"conda\", \"install\", package_name])\n",
    "    except subprocess.CalledProcessError as e:\n",
    "        print(f\"Error occurred while installing {package_name}: {e}\")\n",
    "        \n",
    "def uninstall_package(package_name):\n",
    "    \"\"\"Uninstall a Python package using pip, and handle errors.\"\"\"\n",
    "    try:\n",
    "        subprocess.check_call([sys.executable, \"-m\", \"conda\", \"uninstall\", package_name, \"-y\"])\n",
    "    except subprocess.CalledProcessError as e:\n",
    "        print(f\"Error occurred while uninstalling {package_name}: {e}\")\n",
    "    \n",
    "\n",
    "    \n",
    "if __name__ == \"__main__\":\n",
    "    \n",
    "    print(\"Installing necessary python packages\")\n",
    "    \n",
    "    print(\"Installing shapely package\")\n",
    "    \n",
    "    install_package(\"shapely\")\n",
    "    \n",
    "    print(\"Installing rasterio python package\")\n",
    "    \n",
    "    install_package(\"rasterio\")\n",
    "    \n",
    "    print(\"Installing pyproj python package\")\n",
    "    \n",
    "    install_package(\"pyproj\")"
   ]
  }
 ],
 "metadata": {
  "kernelspec": {
   "display_name": "Python 3 (ipykernel)",
   "language": "python",
   "name": "python3"
  },
  "language_info": {
   "codemirror_mode": {
    "name": "ipython",
    "version": 3
   },
   "file_extension": ".py",
   "mimetype": "text/x-python",
   "name": "python",
   "nbconvert_exporter": "python",
   "pygments_lexer": "ipython3",
   "version": "3.10.10"
  }
 },
 "nbformat": 4,
 "nbformat_minor": 5
}
